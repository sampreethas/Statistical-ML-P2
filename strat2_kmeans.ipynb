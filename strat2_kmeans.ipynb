{
 "cells": [
  {
   "cell_type": "code",
   "execution_count": 63,
   "id": "9e7fbd37",
   "metadata": {},
   "outputs": [],
   "source": [
    "#to import the necessary libraries\n",
    "\n",
    "import numpy as np  #to check if numpy is properly installed or not - python library with support for algorithms, arrays etc\n",
    "import matplotlib.pyplot as plt  #to plot the graphs\n",
    "import scipy.io as sc  #open source python library used for mathematical and scientific problems - built on numpy extension\n",
    "import pandas as pd\n",
    "import seaborn as sns  #to plot the graphs"
   ]
  },
  {
   "cell_type": "code",
   "execution_count": 64,
   "id": "a58d1be8",
   "metadata": {},
   "outputs": [
    {
     "data": {
      "text/html": [
       "<div>\n",
       "<style scoped>\n",
       "    .dataframe tbody tr th:only-of-type {\n",
       "        vertical-align: middle;\n",
       "    }\n",
       "\n",
       "    .dataframe tbody tr th {\n",
       "        vertical-align: top;\n",
       "    }\n",
       "\n",
       "    .dataframe thead th {\n",
       "        text-align: right;\n",
       "    }\n",
       "</style>\n",
       "<table border=\"1\" class=\"dataframe\">\n",
       "  <thead>\n",
       "    <tr style=\"text-align: right;\">\n",
       "      <th></th>\n",
       "      <th>X</th>\n",
       "      <th>Y</th>\n",
       "    </tr>\n",
       "  </thead>\n",
       "  <tbody>\n",
       "    <tr>\n",
       "      <th>0</th>\n",
       "      <td>2.059249</td>\n",
       "      <td>7.205988</td>\n",
       "    </tr>\n",
       "    <tr>\n",
       "      <th>1</th>\n",
       "      <td>8.875781</td>\n",
       "      <td>8.960924</td>\n",
       "    </tr>\n",
       "    <tr>\n",
       "      <th>2</th>\n",
       "      <td>8.007064</td>\n",
       "      <td>2.775320</td>\n",
       "    </tr>\n",
       "    <tr>\n",
       "      <th>3</th>\n",
       "      <td>5.017288</td>\n",
       "      <td>3.763120</td>\n",
       "    </tr>\n",
       "    <tr>\n",
       "      <th>4</th>\n",
       "      <td>6.390562</td>\n",
       "      <td>5.179565</td>\n",
       "    </tr>\n",
       "    <tr>\n",
       "      <th>...</th>\n",
       "      <td>...</td>\n",
       "      <td>...</td>\n",
       "    </tr>\n",
       "    <tr>\n",
       "      <th>295</th>\n",
       "      <td>4.783632</td>\n",
       "      <td>7.106443</td>\n",
       "    </tr>\n",
       "    <tr>\n",
       "      <th>296</th>\n",
       "      <td>2.646830</td>\n",
       "      <td>6.323443</td>\n",
       "    </tr>\n",
       "    <tr>\n",
       "      <th>297</th>\n",
       "      <td>4.322397</td>\n",
       "      <td>0.330889</td>\n",
       "    </tr>\n",
       "    <tr>\n",
       "      <th>298</th>\n",
       "      <td>2.364303</td>\n",
       "      <td>1.052097</td>\n",
       "    </tr>\n",
       "    <tr>\n",
       "      <th>299</th>\n",
       "      <td>7.785513</td>\n",
       "      <td>3.127245</td>\n",
       "    </tr>\n",
       "  </tbody>\n",
       "</table>\n",
       "<p>300 rows × 2 columns</p>\n",
       "</div>"
      ],
      "text/plain": [
       "            X         Y\n",
       "0    2.059249  7.205988\n",
       "1    8.875781  8.960924\n",
       "2    8.007064  2.775320\n",
       "3    5.017288  3.763120\n",
       "4    6.390562  5.179565\n",
       "..        ...       ...\n",
       "295  4.783632  7.106443\n",
       "296  2.646830  6.323443\n",
       "297  4.322397  0.330889\n",
       "298  2.364303  1.052097\n",
       "299  7.785513  3.127245\n",
       "\n",
       "[300 rows x 2 columns]"
      ]
     },
     "execution_count": 64,
     "metadata": {},
     "output_type": "execute_result"
    }
   ],
   "source": [
    "data_input = sc.loadmat('AllSamples.mat')  #accessing the entire input data\n",
    "n_data = data_input['AllSamples']          #copying 'All Samples' data to n_data\n",
    "\n",
    "dataframe = pd.DataFrame(n_data, columns = ['X', 'Y']) #to display the input x,y using dataframe approach - tabular approach\n",
    "dataframe\n"
   ]
  },
  {
   "cell_type": "code",
   "execution_count": 65,
   "id": "6e5bc34c",
   "metadata": {},
   "outputs": [
    {
     "data": {
      "image/png": "[encoded data removed]",
      "text/plain": [
       "<Figure size 432x288 with 1 Axes>"
      ]
     },
     "metadata": {
      "needs_background": "light"
     },
     "output_type": "display_data"
    }
   ],
   "source": [
    "#Scatter plot of input clusters\n",
    "\n",
    "data = {'X_axis': dataframe['X'],\n",
    "        'Y_axis': dataframe['Y']\n",
    "       }\n",
    "  \n",
    "df = pd.DataFrame(data,columns=['X_axis','Y_axis'])\n",
    "df.plot(x ='X_axis', y='Y_axis', kind = 'scatter')    \n",
    "plt.show()\n"
   ]
  },
  {
   "cell_type": "code",
   "execution_count": 66,
   "id": "ff666ba3",
   "metadata": {},
   "outputs": [],
   "source": [
    "#function to calculate centroids/initialization of centroids for clusters\n",
    "\"\"\"Strategy 2: Centroid Initializations - choosing the first center randomly; for the i-th center(i>1), \n",
    "select a sample (among all possible samples) such that the average distance of this chosen one \n",
    "to all previous (i-1) centers is maximal\"\"\"\n",
    "#Strategy 2\n",
    "\n",
    "def centroid_assign(new_data, k):\n",
    "    indices = []\n",
    "    centroids_storage = []\n",
    "    tval = np.zeros([len(new_data), k - 1])\n",
    "    r_val = np.random.choice(new_data.shape[0], 1, replace=False)\n",
    "    indices.append(r_val[0])\n",
    "    centroids_storage.append(new_data[r_val])\n",
    "    \n",
    "    # Selecting Centroids which are at maximum distance from each other - average of the distances\n",
    "    \n",
    "    for i in range(k - 1):\n",
    "        tval[:, i] = np.linalg.norm(centroids_storage[i] - new_data, axis=1)\n",
    "        exit_val = True\n",
    "        tval2 = np.mean(tval[:, :i + 1], axis=1)\n",
    "        exit_val = True\n",
    "        i = np.argmax(tval2)\n",
    "        while (exit_val):\n",
    "            if i in indices:\n",
    "                tval2[i] = 0\n",
    "                i = np.argmax(tval2)\n",
    "            else:\n",
    "                exit_val = False\n",
    "        centroids_storage.append(np.asarray(new_data[i]))\n",
    "        indices.append(i)\n",
    "    centroid_final_val = new_data[indices]\n",
    "    return centroid_final_val"
   ]
  },
  {
   "cell_type": "code",
   "execution_count": 67,
   "id": "6ff7d8ca",
   "metadata": {},
   "outputs": [],
   "source": [
    "#function to assign/group the data points to corresponding clusters based on centroids\n",
    "\"\"\"Grouping of Clusters - grouping the data points into clusters by considering the index at which \n",
    "the distance between data points and all the k centroids is smaller and its corresponding centroid \n",
    "is selected\"\"\"\n",
    "\n",
    "def set_cluster(new_data, start_centroids, k):\n",
    "    cluster_points = []\n",
    "    for i in range(len(new_data)):\n",
    "        distance = []\n",
    "        for j in range(k):\n",
    "            distance.append(np.linalg.norm(np.subtract(new_data[i], start_centroids[j])))\n",
    "        #assigning idx to sample with least euclidean distance\n",
    "        dist_idx = np.argmin(distance)   \n",
    "        cluster_points.append(dist_idx)                   \n",
    "    return np.asarray(cluster_points)                "
   ]
  },
  {
   "cell_type": "code",
   "execution_count": 68,
   "id": "973c1e91",
   "metadata": {},
   "outputs": [],
   "source": [
    "# #function to update the centroids\n",
    "\"\"\"Updating the new centroids - by using clusters from previous centroid and taking mean of data points\"\"\"\n",
    "\n",
    "\n",
    "def centroid_updation(new_data, clusters_val, k):\n",
    "    centroid_point = []\n",
    "    for i in range(k):\n",
    "        arr_bkp = []\n",
    "        for j in range(len(new_data)):\n",
    "            if clusters_val[j]==i:\n",
    "                arr_bkp.append(new_data[j])           \n",
    "        centroid_point.append(np.mean(np.asarray(arr_bkp), axis = 0))   \n",
    "    return np.asarray(centroid_point)"
   ]
  },
  {
   "cell_type": "code",
   "execution_count": 69,
   "id": "d11cbc0f",
   "metadata": {},
   "outputs": [],
   "source": [
    "# #function to calculate the difference between centroids\n",
    "\"\"\"previous centroid and next centroid distance difference\"\"\"\n",
    "\n",
    "def distance_difference(prior_c, nxt_c):\n",
    "    change = 0\n",
    "    for i in range(len(prior_c)):\n",
    "        change+=np.linalg.norm(np.subtract(prior_c[i], nxt_c[i]))\n",
    "    return change"
   ]
  },
  {
   "cell_type": "code",
   "execution_count": 70,
   "id": "5f014281",
   "metadata": {},
   "outputs": [],
   "source": [
    "#function to plot the clusters\n",
    "\"\"\"Scatter plot - Diagram where each value in data set is represented by a dot\n",
    "ten different colors are used to distinguish between different clusters\n",
    "initial centroid represented as +\n",
    "final centroid represented as *\"\"\"\n",
    "\n",
    "\n",
    "def cluster_display(new_data, cluster_ip, centroid_ip, start_centroids, centroid_trace = True, start_centroid_disp = True, disp_plots = True):\n",
    "    colors_val = {0:'red', 1:'blue', 2:'green', 3:'coral', 4:'cyan', 5:'lime', 6:'orange', 7:'black', 8:'grey', 9:'pink'} \n",
    "    figure,axes = plt.subplots(figsize=(7.5,6)); \n",
    "    #representing every cluster point \n",
    "    for i in range(len(cluster_ip)):\n",
    "        axes.scatter(new_data[i][0], new_data[i][1], color = colors_val[cluster_ip[i]])\n",
    "    \n",
    "    print(centroid_ip)\n",
    "    #representing the initial and final centroids\n",
    "    for j in range(len(centroid_ip)):\n",
    "        axes.scatter(centroid_ip[j][0], centroid_ip[j][1], marker = '*', s=250, color=colors_val[j])\n",
    "        if start_centroid_disp == True:\n",
    "            axes.scatter(start_centroids[j][0], start_centroids[j][1], marker = '+', s=350, color = colors_val[j])\n",
    "            \n",
    "    \n",
    "    axes.set_xlabel(\"X_axis\")\n",
    "    axes.set_ylabel(\"Y_axis\")\n",
    "    axes.set_title(\"k means clustering\")\n",
    "    if disp_plots == True:\n",
    "        plt.show()"
   ]
  },
  {
   "cell_type": "code",
   "execution_count": 71,
   "id": "76c24a78",
   "metadata": {},
   "outputs": [],
   "source": [
    "#main kmeans clustering function call with cluster and centroid points as return value\n",
    "\"\"\"K-means clustering algorithm - identifies k number of centroids \n",
    "and then allocates every data point to the nearest cluster,\n",
    "while keeping the centroids as small as possible\"\"\"\n",
    "\n",
    "\n",
    "def kmeans_alg(new_data, k, disp_grp='all', disp_plots=True):\n",
    "    #calculating the initial centroid and grouping of clusters\n",
    "    prior_cent = centroid_assign(new_data, k)\n",
    "    cluster_pnt = set_cluster(new_data, prior_cent, k)\n",
    "    #assuming the initial difference between centroids as 100\n",
    "    change = 100 \n",
    "    start_centroid = prior_cent; #copying the centroid value\n",
    "    \n",
    "   \n",
    "    \n",
    "    \"\"\"updating the centroids with difference > 0.01\"\"\"\n",
    "    while change > 0.01:\n",
    "        cluster_pnt = set_cluster(new_data, prior_cent, k)\n",
    "        if disp_grp == 'all' and disp_plots:\n",
    "            print('ENTERED CLUSTER')\n",
    "            cluster_display(new_data, cluster_pnt, prior_cent, start_centroid, False, False, disp_plots = disp_plots)\n",
    "            print('DISPLAYED CLUSTER')\n",
    "            centroid_trace = False\n",
    "            start_centroid_disp = False\n",
    "        new_cent = centroid_updation(new_data, cluster_pnt, k)\n",
    "        change = distance_difference(prior_cent, new_cent)\n",
    "        prior_cent = new_cent\n",
    "        \n",
    "    #plotting the clusters     \n",
    "    if disp_plots:\n",
    "        cluster_display(new_data, cluster_pnt, prior_cent, start_centroid, centroid_trace = True, start_centroid_disp = True, disp_plots = True)\n",
    "    return cluster_pnt, prior_cent"
   ]
  },
  {
   "cell_type": "code",
   "execution_count": 72,
   "id": "4b083095",
   "metadata": {},
   "outputs": [],
   "source": [
    "#the main function 2 same as main function 1 without displaying clusters  \n",
    "#as it is not used for WCSS calculation\n",
    "\n",
    "def kmeans_alg_2(new_data, k, disp_grp='all', disp_plots=True):\n",
    "    prior_cent = centroid_assign(new_data, k)\n",
    "    cluster_pnt = set_cluster(new_data, prior_cent, k)\n",
    "    change = 100 \n",
    "    start_centroid = prior_cent; #starting initial centroid value\n",
    "    \n",
    "    while change > 0.01:\n",
    "        cluster_pnt = set_cluster(new_data, prior_cent, k)\n",
    "        if disp_grp == 'all' and disp_plots:\n",
    "#            cluster_display(new_data, cluster_pnt, prior_cent, start_centroid, False, False, disp_plots = disp_plots)\n",
    "            centroid_trace = False\n",
    "            start_centroid_disp = False\n",
    "        new_cent = centroid_updation(new_data, cluster_pnt, k)\n",
    "        change = distance_difference(prior_cent, new_cent)\n",
    "        prior_cent = new_cent\n",
    "    \n",
    "    return cluster_pnt, prior_cent"
   ]
  },
  {
   "cell_type": "code",
   "execution_count": 73,
   "id": "4f6d5a95",
   "metadata": {},
   "outputs": [
    {
     "name": "stdout",
     "output_type": "stream",
     "text": [
      "Enter the value of k between 2-10:2\n",
      "[[4.85261193 7.27164171]\n",
      " [5.00056234 2.48542748]]\n"
     ]
    },
    {
     "data": {
      "image/png": "[encoded data removed]",
      "text/plain": [
       "<Figure size 540x432 with 1 Axes>"
      ]
     },
     "metadata": {
      "needs_background": "light"
     },
     "output_type": "display_data"
    }
   ],
   "source": [
    "# #calculating the centroid and the corresponding clusters for given input dataset\n",
    "# \"\"\"the value of k determines the number of clusters \n",
    "# the ouput plot shows the different clusters based on k value with their initial(+) and final centroids(*),\n",
    "# which determines the improvement in centroid position based on the close approximity of \n",
    "# data points to centroids of clusters\"\"\"\n",
    "\n",
    "k = int(input(\"Enter the value of k between 2-10:\"))\n",
    "cluster, centroid = kmeans_alg(n_data, k, disp_grp='output')\n"
   ]
  },
  {
   "cell_type": "code",
   "execution_count": 74,
   "id": "aee90162",
   "metadata": {},
   "outputs": [],
   "source": [
    "#function to calculate the cost \n",
    "\"\"\"Sum of squared distance between each point and a centroid in a cluster\"\"\"\n",
    "\n",
    "\n",
    "def cost_calc(x_ip, centroids_pnt, cluster):\n",
    "    wcss = 0\n",
    "    for i, val in enumerate(x_ip):\n",
    "        wcss += np.sqrt((centroids_pnt[int(cluster[i]), 0]-val[0])**2 +(centroids_pnt[int(cluster[i]), 1]-val[1])**2)\n",
    "    return wcss"
   ]
  },
  {
   "cell_type": "code",
   "execution_count": 75,
   "id": "d36d8fd3",
   "metadata": {},
   "outputs": [
    {
     "name": "stdout",
     "output_type": "stream",
     "text": [
      "cluster value in cost function [1 1 0 0 1 1 0 0 0 0 1 1 1 0 1 1 0 1 0 1 0 1 0 1 0 0 1 0 1 0 1 1 0 1 1 1 1\n",
      " 1 1 1 0 0 1 0 0 0 0 0 1 1 1 1 0 1 1 1 0 0 0 0 1 1 0 1 1 0 1 1 1 1 0 1 0 1\n",
      " 1 0 1 1 1 1 1 1 1 1 0 1 0 1 0 0 0 0 0 0 1 0 0 1 1 0 0 1 0 1 0 0 0 1 0 0 0\n",
      " 1 1 1 0 0 0 1 0 1 1 1 0 0 0 1 0 1 1 1 1 0 1 1 1 1 0 0 0 0 0 1 1 1 1 0 1 1\n",
      " 0 0 0 1 1 0 0 0 0 0 0 1 1 1 0 0 1 1 0 1 0 0 0 1 1 1 0 0 0 1 1 0 0 0 1 1 0\n",
      " 0 1 1 1 0 1 1 1 0 1 1 1 0 0 0 0 1 1 0 0 0 0 0 0 0 0 1 1 1 1 0 0 0 0 0 0 0\n",
      " 1 0 1 0 0 1 1 0 1 1 1 1 0 1 0 1 1 1 0 1 1 1 1 1 0 0 1 1 0 1 0 0 1 0 0 1 0\n",
      " 1 0 0 1 1 1 1 1 0 0 1 1 0 1 0 1 1 0 1 0 1 0 0 1 1 1 0 0 1 0 1 0 0 1 0 0 1\n",
      " 1 0 0 0]\n",
      "centroid value in cost function [[5.00056234 2.48542748]\n",
      " [4.85261193 7.27164171]]\n",
      "cluster value in cost function [2 1 0 0 1 2 0 2 0 0 1 2 2 0 2 1 0 1 0 2 0 1 0 2 0 0 2 0 2 0 1 1 0 1 1 2 1\n",
      " 1 1 2 0 0 1 0 0 0 0 0 1 2 1 2 0 2 2 1 0 2 0 0 1 1 0 2 2 0 1 1 2 2 2 2 2 2\n",
      " 1 0 2 2 2 1 2 2 2 1 0 1 2 2 0 0 0 0 0 2 1 0 0 1 1 0 0 1 0 2 0 0 0 1 0 0 0\n",
      " 1 2 1 0 0 0 1 0 1 1 1 0 0 0 1 0 1 2 2 1 0 1 1 1 1 0 0 0 2 0 1 1 2 2 0 1 2\n",
      " 2 2 0 2 2 0 0 0 0 0 0 1 1 1 0 0 1 1 0 1 2 0 0 2 2 1 0 0 0 2 2 0 2 0 1 1 0\n",
      " 0 1 2 2 2 1 2 1 0 1 1 2 0 0 0 2 1 1 0 0 2 0 0 0 0 2 1 2 2 1 0 0 2 2 0 0 0\n",
      " 1 0 2 0 0 2 2 0 1 2 2 1 0 1 2 1 2 1 0 1 1 1 1 2 2 0 2 1 0 2 2 0 1 0 0 1 0\n",
      " 2 0 0 1 2 2 1 2 0 0 1 2 0 1 2 1 1 0 2 0 2 0 0 2 1 1 2 0 1 0 2 0 0 1 1 0 1\n",
      " 2 0 0 0]\n",
      "centroid value in cost function [[5.47740039 2.25498103]\n",
      " [6.49724962 7.52297293]\n",
      " [2.56146449 6.08861338]]\n",
      "cluster value in cost function [3 2 0 1 2 3 1 1 1 0 2 3 3 1 3 2 0 2 1 3 1 2 0 3 0 0 3 1 3 1 2 2 1 3 2 3 2\n",
      " 2 2 3 1 1 3 1 1 0 0 1 2 3 2 3 0 3 3 2 0 1 0 1 2 2 1 3 3 0 2 2 3 3 1 3 1 3\n",
      " 2 0 3 3 3 2 3 3 3 2 0 2 1 3 0 1 1 0 0 1 2 0 1 2 2 0 0 2 0 3 1 1 0 2 1 0 0\n",
      " 2 3 2 0 1 0 2 1 2 2 2 0 0 0 2 0 3 3 3 2 1 2 2 2 2 0 1 0 1 0 3 2 3 3 0 2 3\n",
      " 1 3 0 3 3 1 0 0 1 1 1 2 2 2 1 0 2 2 0 2 1 1 0 3 3 2 0 1 1 3 3 1 1 0 2 2 1\n",
      " 0 2 3 3 1 2 3 2 0 2 2 3 1 1 1 1 2 2 1 1 1 1 0 0 0 1 2 3 3 2 1 1 1 1 1 0 1\n",
      " 2 0 3 0 0 3 3 0 2 3 3 2 0 2 1 2 3 2 0 2 2 2 3 3 1 1 3 2 0 3 1 1 2 1 1 2 1\n",
      " 3 0 1 2 3 3 2 3 1 1 2 3 1 3 1 2 2 0 3 1 3 0 0 3 2 2 1 0 2 0 3 1 1 2 0 0 3\n",
      " 3 1 1 0]\n",
      "centroid value in cost function [[7.25262683 2.40015826]\n",
      " [3.22853009 2.52404863]\n",
      " [6.62592538 7.57614917]\n",
      " [2.90547741 6.90512276]]\n",
      "cluster value in cost function [1 3 0 2 4 1 2 2 2 0 4 1 1 2 1 3 0 4 2 1 2 3 0 1 0 0 1 2 1 2 4 4 2 4 4 1 3\n",
      " 4 3 1 2 2 4 2 2 0 0 2 4 1 3 1 0 1 1 3 0 2 0 2 4 4 2 1 1 0 3 3 4 1 2 1 2 1\n",
      " 4 0 1 1 1 3 1 1 1 3 0 4 2 1 0 2 2 0 0 2 4 0 2 3 4 0 0 4 0 1 2 2 0 4 2 0 0\n",
      " 4 1 4 0 2 0 3 2 3 3 4 0 0 0 4 0 4 1 1 4 2 3 3 3 3 0 2 0 2 0 4 4 1 4 0 4 1\n",
      " 2 4 0 1 1 2 0 0 2 2 2 4 4 4 2 0 3 4 0 3 2 2 0 1 1 3 0 2 2 1 1 2 2 0 3 3 2\n",
      " 0 3 1 1 2 4 1 4 0 4 3 4 2 2 2 2 3 3 2 2 2 2 0 0 0 2 4 1 1 4 2 2 2 2 2 0 2\n",
      " 4 0 1 0 0 1 1 0 3 1 4 3 0 4 2 4 1 3 0 4 3 4 4 1 2 2 1 4 0 1 2 2 4 2 2 3 2\n",
      " 1 0 2 4 1 1 3 1 2 2 4 1 2 4 2 3 4 0 1 2 1 0 0 1 3 4 4 0 3 0 1 2 2 4 0 0 4\n",
      " 1 2 2 0]\n",
      "centroid value in cost function [[7.25262683 2.40015826]\n",
      " [2.60123296 6.91610506]\n",
      " [3.21257461 2.49658087]\n",
      " [7.75648325 8.55668928]\n",
      " [5.40252508 6.73636175]]\n",
      "cluster value in cost function [4 2 3 5 5 4 5 1 1 3 5 5 4 5 4 2 3 0 5 4 5 2 3 4 3 3 4 5 0 1 5 5 1 0 0 4 2\n",
      " 5 2 4 1 1 0 5 1 3 3 5 0 4 2 4 5 4 4 2 3 1 5 5 0 0 1 4 4 5 2 2 5 4 1 4 1 4\n",
      " 5 3 4 4 4 2 4 4 4 2 3 5 1 4 3 1 5 5 3 1 5 3 1 2 5 3 3 0 3 4 1 1 3 0 5 3 3\n",
      " 5 4 0 3 1 3 2 1 2 2 0 3 3 3 0 3 0 4 4 5 1 0 2 2 2 3 1 3 1 3 0 5 4 0 5 0 0\n",
      " 1 5 3 4 4 1 5 3 5 5 1 5 0 0 5 5 2 0 3 2 1 1 5 5 4 2 3 1 1 4 4 1 1 3 2 2 1\n",
      " 3 0 4 4 1 5 0 5 3 0 2 0 1 5 1 1 2 2 1 1 1 5 3 3 3 1 0 4 4 0 1 1 1 1 1 3 1\n",
      " 0 3 4 3 3 4 4 3 0 4 0 2 3 5 1 0 4 2 3 5 2 0 0 4 1 5 4 5 3 5 1 1 5 1 5 2 1\n",
      " 4 5 5 0 4 4 2 4 1 1 0 4 1 0 1 2 0 3 4 5 4 3 3 4 2 5 5 3 2 3 4 5 1 5 3 5 0\n",
      " 4 1 1 3]\n",
      "centroid value in cost function [[4.92373109 7.83373154]\n",
      " [2.68198633 2.09461587]\n",
      " [7.91430998 8.51990981]\n",
      " [7.55616782 2.23516796]\n",
      " [2.51317449 6.8830618 ]\n",
      " [5.33214241 4.44448111]]\n",
      "cluster value in cost function [1 3 0 5 4 1 5 5 2 0 4 1 1 5 1 6 0 4 5 1 5 6 0 1 0 0 1 5 1 2 4 4 2 4 4 1 3\n",
      " 4 3 1 2 2 4 5 5 0 0 5 4 1 6 1 5 1 1 3 0 5 0 5 4 4 2 1 1 5 3 3 5 1 5 1 5 1\n",
      " 4 0 1 1 1 6 1 1 1 3 0 4 5 1 0 2 5 5 0 5 4 0 5 6 4 0 0 4 0 1 2 2 0 4 5 0 0\n",
      " 4 1 4 0 2 0 3 2 3 3 4 0 0 0 4 0 4 1 1 4 5 6 6 6 3 0 2 0 5 0 4 4 1 4 0 4 1\n",
      " 5 5 0 1 1 2 5 0 5 5 2 4 4 4 5 0 3 4 0 3 5 2 5 5 1 6 0 2 5 1 1 2 5 0 6 6 5\n",
      " 0 6 1 1 5 4 1 4 0 4 3 4 2 5 2 5 6 6 2 2 5 5 0 0 0 5 4 1 1 4 5 2 5 5 2 0 5\n",
      " 4 0 1 0 0 1 1 0 6 1 4 6 0 4 5 4 1 6 0 4 6 4 4 1 5 5 1 4 0 5 5 2 4 2 5 3 5\n",
      " 1 0 5 4 1 1 3 1 2 2 4 1 5 4 5 6 4 0 1 5 1 0 0 1 3 4 5 0 3 0 1 5 2 4 0 0 4\n",
      " 1 2 2 0]\n",
      "centroid value in cost function [[7.41419243 2.32169114]\n",
      " [2.56333815 6.9782248 ]\n",
      " [3.14506148 0.90770655]\n",
      " [8.33445692 8.88287655]\n",
      " [5.46427736 6.83771354]\n",
      " [3.49556658 3.56611232]\n",
      " [7.20892924 8.24766976]]\n",
      "cluster value in cost function [3 2 4 0 7 3 0 6 1 4 7 3 3 0 3 2 4 7 0 3 0 2 4 3 4 4 3 0 3 1 7 7 1 5 5 3 2\n",
      " 7 2 3 1 1 5 0 6 4 4 0 5 3 2 3 0 3 3 2 4 6 0 0 5 7 1 3 3 0 2 2 0 3 6 3 6 3\n",
      " 7 4 3 3 3 2 3 3 3 2 4 7 6 3 4 1 0 0 4 6 7 4 6 2 7 4 4 5 4 3 1 1 4 5 0 4 4\n",
      " 7 3 5 4 1 4 2 1 2 2 5 4 4 4 5 4 5 3 3 7 6 5 2 2 2 4 1 4 6 4 5 7 3 5 0 5 3\n",
      " 6 0 4 3 3 1 0 4 0 0 1 7 5 5 0 0 2 7 4 2 6 1 0 0 3 2 4 1 6 3 3 1 6 4 2 2 6\n",
      " 4 5 3 3 6 7 3 7 4 5 2 5 1 0 1 6 2 2 1 1 6 0 4 4 4 6 5 3 3 5 6 1 6 6 1 4 6\n",
      " 5 4 3 4 4 3 3 4 5 3 5 2 4 7 6 5 3 2 4 7 2 5 5 3 6 0 3 7 4 0 6 6 7 1 0 2 6\n",
      " 3 7 0 5 3 3 2 3 1 6 5 3 6 5 6 2 5 4 3 0 3 4 4 3 2 7 0 4 2 4 3 0 1 7 4 0 5\n",
      " 3 1 1 4]\n",
      "centroid value in cost function [[4.81833058 3.6950232 ]\n",
      " [3.16906145 0.81432515]\n",
      " [7.91430998 8.51990981]\n",
      " [2.56333815 6.9782248 ]\n",
      " [7.55616782 2.23516796]\n",
      " [5.0217766  7.82401258]\n",
      " [2.24204752 3.25100749]\n",
      " [6.15468228 5.70140721]]\n",
      "cluster value in cost function [8 1 7 3 6 8 3 5 0 7 6 2 8 3 8 1 7 6 3 2 3 1 7 8 7 7 2 3 8 0 6 6 0 4 4 8 1\n",
      " 6 1 8 0 0 4 3 5 7 7 3 4 8 1 8 3 2 8 1 7 5 3 3 4 6 0 2 2 3 1 1 2 8 5 8 5 2\n",
      " 6 7 8 2 8 1 8 2 2 1 7 6 5 8 7 0 3 3 7 5 6 7 5 1 6 7 7 4 7 8 0 0 7 4 3 7 7\n",
      " 6 8 4 7 0 7 1 0 1 1 4 7 7 7 4 7 4 8 2 6 5 4 1 1 1 7 0 7 5 7 4 6 2 4 3 4 8\n",
      " 5 3 7 2 8 0 3 7 3 3 0 6 4 4 3 3 1 6 7 1 5 0 3 2 8 1 7 0 5 8 2 0 5 7 1 1 5\n",
      " 7 4 8 2 5 6 8 6 7 4 1 4 0 3 0 5 1 1 0 0 5 3 7 7 7 5 4 8 2 4 5 0 5 5 0 7 5\n",
      " 4 7 2 7 7 8 8 7 4 8 4 1 7 6 5 4 2 1 7 6 1 4 4 2 5 3 2 6 7 2 5 5 6 0 3 1 5\n",
      " 2 6 3 4 2 2 1 2 0 5 4 8 5 4 5 1 4 7 2 3 8 7 7 8 1 6 3 7 1 7 8 3 0 6 7 3 4\n",
      " 2 0 0 7]\n",
      "centroid value in cost function [[3.16906145 0.81432515]\n",
      " [7.91430998 8.51990981]\n",
      " [3.13834768 5.93372322]\n",
      " [4.91251497 3.56314096]\n",
      " [5.0217766  7.82401258]\n",
      " [2.24204752 3.25100749]\n",
      " [6.15468228 5.70140721]\n",
      " [7.55616782 2.23516796]\n",
      " [2.18321462 7.70355341]]\n",
      "cluster value in cost function [8 3 7 0 0 8 0 5 2 7 4 1 8 0 8 6 7 4 0 1 0 6 7 8 7 7 1 0 8 9 0 0 2 4 4 8 3\n",
      " 0 3 8 2 2 4 0 9 7 7 0 4 8 6 8 0 1 8 3 7 5 0 0 4 4 9 1 1 0 3 3 1 8 5 8 5 1\n",
      " 0 7 8 1 8 6 8 1 1 6 7 0 5 8 7 9 0 0 7 5 0 7 9 6 4 7 7 4 7 8 9 2 7 4 0 7 7\n",
      " 0 8 4 7 2 7 3 2 3 3 4 7 7 7 4 7 4 8 1 0 5 4 6 6 3 7 9 7 5 7 4 0 1 4 0 4 8\n",
      " 5 0 7 1 8 2 0 7 0 0 2 0 4 4 0 0 3 4 7 3 5 2 0 1 8 6 7 2 9 8 1 2 5 7 6 6 9\n",
      " 7 6 8 1 5 0 8 4 7 4 3 4 2 0 9 5 6 6 2 9 5 0 7 7 7 5 4 8 1 4 9 2 5 5 2 7 9\n",
      " 4 7 1 7 7 8 8 7 6 8 4 6 7 0 5 4 1 6 7 0 6 4 4 1 5 0 1 0 7 1 5 9 0 2 0 3 5\n",
      " 1 0 0 4 1 1 3 1 9 9 4 8 9 4 5 6 4 7 1 0 8 7 7 8 6 6 0 7 3 7 8 0 2 4 7 0 4\n",
      " 1 2 9 7]\n",
      "centroid value in cost function [[5.34560332 4.20335478]\n",
      " [3.13834768 5.93372322]\n",
      " [3.44650803 0.47784504]\n",
      " [8.39870753 8.92549706]\n",
      " [5.15295442 7.49728224]\n",
      " [2.00857179 3.54850646]\n",
      " [7.3212644  8.13123702]\n",
      " [7.55616782 2.23516796]\n",
      " [2.18321462 7.70355341]\n",
      " [2.69805343 2.0242299 ]]\n"
     ]
    }
   ],
   "source": [
    "#calculating the cost for a given range of (2,10) \n",
    "\n",
    "cost_list = []\n",
    "for k in range(2, 11):\n",
    "    clusterrrr, centroidddd = kmeans_alg_2(n_data, k)\n",
    "    print('cluster value in cost function', clusterrrr)\n",
    "    print('centroid value in cost function', centroidddd)\n",
    "    # WCSS (Within cluster sum of square)\n",
    "    cost_val = cost_calc(n_data, centroidddd, clusterrrr)\n",
    "    cost_list.append(cost_val)"
   ]
  },
  {
   "cell_type": "code",
   "execution_count": 76,
   "id": "a1e67693",
   "metadata": {},
   "outputs": [
    {
     "data": {
      "text/plain": [
       "[704.0045894890274,\n",
       " 577.7917691933112,\n",
       " 449.60706210674033,\n",
       " 386.5125096769728,\n",
       " 332.6729508557306,\n",
       " 334.2898164694533,\n",
       " 258.16467919852886,\n",
       " 229.7632467509877,\n",
       " 249.13319028163102]"
      ]
     },
     "execution_count": 76,
     "metadata": {},
     "output_type": "execute_result"
    }
   ],
   "source": [
    "#list of cost values for given range\n",
    "cost_list"
   ]
  },
  {
   "cell_type": "code",
   "execution_count": 77,
   "id": "2adc69cb",
   "metadata": {},
   "outputs": [
    {
     "data": {
      "image/png": "[encoded data removed]",
      "text/plain": [
       "<Figure size 432x288 with 1 Axes>"
      ]
     },
     "metadata": {
      "needs_background": "light"
     },
     "output_type": "display_data"
    }
   ],
   "source": [
    "#Plotting the objective function vs k value (Elbow method) \n",
    "\"\"\"objective function/wcss - the sum of squared distance between each point and the centroid in a cluster\n",
    "For each value of K, calculating WCSS (Within-Cluster Sum of Square)\n",
    "plot of WCSS with the K value looks like an Elbow \n",
    "As the number of clusters increases, the WCSS value will start to decrease\n",
    "The K value corresponding to elbow point is the optimal K value or an optimal number of clusters\"\"\"\n",
    "\n",
    "sns.lineplot(x=range(2,11), y=cost_list, marker='o')\n",
    "plt.title('Elbow method')\n",
    "plt.xlabel('k')\n",
    "plt.ylabel('WCSS')\n",
    "plt.show()"
   ]
  },
  {
   "cell_type": "code",
   "execution_count": 78,
   "id": "1d4947a3",
   "metadata": {},
   "outputs": [
    {
     "name": "stdout",
     "output_type": "stream",
     "text": [
      "Enter the value of k between 2-10:2\n",
      "[[4.85261193 7.27164171]\n",
      " [5.00056234 2.48542748]]\n"
     ]
    },
    {
     "data": {
      "image/png": "[encoded data removed]",
      "text/plain": [
       "<Figure size 540x432 with 1 Axes>"
      ]
     },
     "metadata": {
      "needs_background": "light"
     },
     "output_type": "display_data"
    }
   ],
   "source": [
    "#2nd initialization\n",
    "\n",
    "k = int(input(\"Enter the value of k between 2-10:\"))\n",
    "cluster, centroid = kmeans_alg(n_data, k, disp_grp='output')"
   ]
  },
  {
   "cell_type": "code",
   "execution_count": 79,
   "id": "429a8eca",
   "metadata": {},
   "outputs": [],
   "source": [
    "cost_list = []\n",
    "for k in range(2, 11):\n",
    "    clusterrrr, centroidddd = kmeans_alg_2(n_data, k)\n",
    "    # WCSS (Within cluster sum of square)\n",
    "    cost_val = cost_calc(n_data, centroidddd, clusterrrr)\n",
    "    cost_list.append(cost_val)"
   ]
  },
  {
   "cell_type": "code",
   "execution_count": 80,
   "id": "a6a2896e",
   "metadata": {},
   "outputs": [
    {
     "data": {
      "image/png": "[encoded data removed]",
      "text/plain": [
       "<Figure size 432x288 with 1 Axes>"
      ]
     },
     "metadata": {
      "needs_background": "light"
     },
     "output_type": "display_data"
    }
   ],
   "source": [
    "#plotting of objective function vs k with second initialization\n",
    "#both the graphs have some slight changes\n",
    "\n",
    "sns.lineplot(x=range(2,11), y=cost_list, marker='o')\n",
    "plt.title('Elbow method - second initialization')\n",
    "plt.xlabel('k')\n",
    "plt.ylabel('WCSS')\n",
    "plt.show()"
   ]
  },
  {
   "cell_type": "code",
   "execution_count": null,
   "id": "3e073d52",
   "metadata": {},
   "outputs": [],
   "source": []
  }
 ],
 "metadata": {
  "kernelspec": {
   "display_name": "Python 3 (ipykernel)",
   "language": "python",
   "name": "python3"
  },
  "language_info": {
   "codemirror_mode": {
    "name": "ipython",
    "version": 3
   },
   "file_extension": ".py",
   "mimetype": "text/x-python",
   "name": "python",
   "nbconvert_exporter": "python",
   "pygments_lexer": "ipython3",
   "version": "3.9.12"
  }
 },
 "nbformat": 4,
 "nbformat_minor": 5
}
